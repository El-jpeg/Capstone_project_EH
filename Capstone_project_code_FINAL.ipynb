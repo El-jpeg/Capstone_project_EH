{
  "nbformat": 4,
  "nbformat_minor": 0,
  "metadata": {
    "colab": {
      "provenance": [],

    },
    "kernelspec": {
      "name": "python3",
      "display_name": "Python 3"
    },
    "language_info": {
      "name": "python"
    }
  },
  "cells": [
    {
      "cell_type": "code",

      "metadata": {
        "id": "YcBIMov_UFiP"
      },
      "outputs": [],
      "source": [
        "import pandas as pd\n",
        "\n",
        "# ---------- Helper functions ----------\n",
        "\n",
        "def clean_simple(path, country=\"Germany\"):\n",
        "    \"\"\"Clean simple datasets (B6N, PPS, num_hhld)\"\"\"\n",
        "    df = pd.read_csv(path)\n",
        "    df = df[df.iloc[:,0] == country]\n",
        "    df = df.melt(id_vars=df.columns[0], var_name=\"Year\", value_name=\"Value\")\n",
        "    df[\"Year\"] = df[\"Year\"].astype(int)\n",
        "    df[\"Value\"] = pd.to_numeric(df[\"Value\"].astype(str).str.replace(\",\", \"\", regex=False), errors=\"coerce\")\n",
        "    df = df.rename(columns={df.columns[0]:\"Country\"})\n",
        "    return df.reset_index(drop=True)\n",
        "\n",
        "def clean_quintile(path, quintile, country=\"Germany\"):\n",
        "    df = pd.read_csv(path)\n",
        "    df = df[df.iloc[:,0].str.contains(country, case=False, na=False)]\n",
        "\n",
        "    # Melt wide → long\n",
        "    df = df.melt(id_vars=df.columns[0], var_name=\"Year\", value_name=\"Value\")\n",
        "\n",
        "    # Extract 4-digit year and drop rows without year\n",
        "    df[\"Year\"] = df[\"Year\"].astype(str).str.extract(r\"(\\d{4})\")[0]\n",
        "    df = df.dropna(subset=[\"Year\"])\n",
        "    df[\"Year\"] = df[\"Year\"].astype(int)\n",
        "\n",
        "    # Clean Values and drop NaN\n",
        "    df[\"Value\"] = pd.to_numeric(df[\"Value\"].astype(str).str.replace(\",\", \"\", regex=False).replace(\":\", pd.NA), errors=\"coerce\")\n",
        "    df = df.dropna(subset=[\"Value\"])\n",
        "\n",
        "    # Add Quintile/Group only if numeric\n",
        "    df[\"Quintile\"] = quintile\n",
        "    # For merging/expenditure, only keep numeric quintiles when needed\n",
        "    # df[\"Quintile\"] = pd.to_numeric(df[\"Quintile\"], errors=\"coerce\")\n",
        "\n",
        "    df = df.rename(columns={df.columns[0]:\"Country\"})\n",
        "    return df.reset_index(drop=True)"
      ]
    },
    {
      "cell_type": "code",
      "source": [
        "datasets = {}\n",
        "\n",
        "# Simple datasets\n",
        "datasets[\"b6n\"] = clean_simple(\"B6N.csv\", country=\"DE\")\n",
        "datasets[\"pps\"] = clean_simple(\"PPS.csv\", country=\"Germany\")\n",
        "datasets[\"hhld_num\"] = clean_simple(\"num_hhld.csv\", country=\"Germany\")\n",
        "\n",
        "# Income quintiles\n",
        "income_parts = [clean_quintile(f\"Inc{i}.csv\", quintile=i) for i in range(1,6)]\n",
        "datasets[\"income\"] = pd.concat(income_parts, ignore_index=True)\n",
        "\n",
        "# Expenditure quintiles + total\n",
        "exp_parts = [clean_quintile(f\"Exp{i}.csv\", quintile=i) for i in range(1,6)]\n",
        "exp_parts.append(clean_quintile(\"ExpTot.csv\", quintile=\"Total\"))\n",
        "datasets[\"expenditure\"] = pd.concat(exp_parts, ignore_index=True)\n"
      ],
      "metadata": {
        "id": "MR9PxRqWUYr7"
      },

      "outputs": []
    },
    {
      "cell_type": "code",
      "source": [
        "for key in [\"income\", \"b6n\", \"hhld_num\"]:\n",
        "    datasets[key][\"Country\"] = \"Germany\""
      ],
      "metadata": {
        "id": "l_-OFsD8iG-s"
      },

      "outputs": []
    },
    {
      "cell_type": "code",
      "source": [
        "# ==============================\n",
        "# Mean Income per Household by Quintile\n",
        "# ==============================\n",
        "\n",
        "# Merge income shares with total income and household numbers\n",
        "df_income = datasets[\"income\"].merge(\n",
        "    datasets[\"b6n\"], on=[\"Country\",\"Year\"], suffixes=(\"_share\",\"_total\")\n",
        ").merge(\n",
        "    datasets[\"hhld_num\"], on=[\"Country\",\"Year\"]\n",
        ")\n",
        "\n",
        "df_income = df_income.rename(columns={\n",
        "    \"Value_share\":\"IncomeShare\",\n",
        "    \"Value_total\":\"TotalIncome_MIOEUR\",  # millions of EUR\n",
        "    \"Value\":\"NumHouseholds_thousands\"    # thousands\n",
        "})\n",
        "\n",
        "# --- Step 1: Total income per quintile (EUR) ---\n",
        "df_income[\"Income_quintile\"] = (\n",
        "    df_income[\"TotalIncome_MIOEUR\"] * 1_000_000 * df_income[\"IncomeShare\"] / 100\n",
        ")\n",
        "\n",
        "# --- Step 2: Households per quintile ---\n",
        "df_income[\"HH_quintile\"] = (\n",
        "    df_income[\"NumHouseholds_thousands\"] * 1000 * 0.2\n",
        ")\n",
        "\n",
        "# --- Step 3: Mean income per household (EUR) ---\n",
        "df_income[\"MeanIncome\"] = df_income[\"Income_quintile\"] / df_income[\"HH_quintile\"]\n",
        "\n",
        "# Keep only relevant columns\n",
        "income_df = df_income[[\"Country\", \"Year\", \"Quintile\", \"MeanIncome\"]].copy()\n",
        "income_df[\"Quintile\"] = income_df[\"Quintile\"].astype(int)\n",
        "\n",
        "# --- Sanity check ---\n",
        "# Overall avg income = total disposable income / total households\n",
        "df_income[\"Overall_AvgIncome\"] = (\n",
        "    df_income[\"TotalIncome_MIOEUR\"] * 1_000_000 /\n",
        "    (df_income[\"NumHouseholds_thousands\"] * 1000)\n",
        ")\n",
        "\n",
        "print(\"Sanity check (overall average household income):\")\n",
        "print(df_income[[\"Year\",\"Overall_AvgIncome\"]].drop_duplicates().head())\n",
        "\n",
        "print(\"\\nSample of mean income by quintile:\")\n",
        "print(income_df.head())"
      ],
      "metadata": {
        "colab": {
          "base_uri": "https://localhost:8080/"
        },
        "id": "O8516FNoUcJR",

      "outputs": [
        {
          "output_type": "stream",
          "name": "stdout",
          "text": [
            "Sanity check (overall average household income):\n",
            "   Year  Overall_AvgIncome\n",
            "0  2006       36979.368948\n",
            "1  2007       37451.852229\n",
            "2  2008       37950.345809\n",
            "3  2009       38049.965036\n",
            "4  2010       39441.406644\n",
            "\n",
            "Sample of mean income by quintile:\n",
            "   Country  Year  Quintile    MeanIncome\n",
            "0  Germany  2006         1  16455.819182\n",
            "1  Germany  2007         1  14606.222369\n",
            "2  Germany  2008         1  15369.890053\n",
            "3  Germany  2009         1  15980.985315\n",
            "4  Germany  2010         1  16565.390790\n"
          ]
        }
      ]
    },
    {
      "cell_type": "code",
      "source": [
        "expenditure = datasets[\"expenditure\"]\n",
        "pps = datasets[\"pps\"]\n",
        "hhld = datasets[\"hhld_num\"]\n",
        "\n",
        "# Merge expenditure shares with PPS\n",
        "df_exp = expenditure.merge(pps, on=[\"Country\",\"Year\"], suffixes=(\"_Exp\",\"_PPP\"))\n",
        "\n",
        "# Merge with household numbers\n",
        "df_exp = df_exp.merge(hhld, on=[\"Country\",\"Year\"])\n",
        "df_exp = df_exp.rename(columns={\n",
        "    \"Value_Exp\":\"ExpPPS\",\n",
        "    \"Value\":\"NumHouseholds\",\n",
        "    \"Value_PPP\":\"PPP\"\n",
        "})\n",
        "\n",
        "# Convert PPS → Euro per household\n",

        "\n",
        "# Keep only numeric quintiles (exclude \"Total\")\n",
        "df_exp = df_exp[df_exp[\"Quintile\"].apply(lambda x: str(x).isdigit())]\n",
        "df_exp[\"Quintile\"] = df_exp[\"Quintile\"].astype(int)\n",
        "\n",
        "# Keep only needed columns\n",
        "exp_df = df_exp[[\"Country\",\"Year\",\"Quintile\",\"MeanExpenditure\"]].copy()\n",
        "\n",
        "print(exp_df.head())\n"
      ],
      "metadata": {
        "colab": {
          "base_uri": "https://localhost:8080/"
        },
        "id": "NAt8aIOlUfUu",

      "outputs": [
        {
          "output_type": "stream",
          "name": "stdout",
          "text": [
            "   Country  Year  Quintile  MeanExpenditure\n",

          ]
        }
      ]
    },
    {
      "cell_type": "code",
      "source": [
        "income_df[\"Country\"] = \"Germany\"\n",
        "exp_df[\"Country\"] = \"Germany\"\n"
      ],
      "metadata": {
        "id": "dT5i6jdKVQIG"
      },

      "outputs": []
    },
    {
      "cell_type": "code",
      "source": [
        "income_df = income_df[income_df[\"Quintile\"].apply(lambda x: str(x).isdigit())].copy()\n",
        "income_df[\"Quintile\"] = income_df[\"Quintile\"].astype(int)\n",
        "exp_df = exp_df[exp_df[\"Quintile\"].apply(lambda x: str(x).isdigit())].copy()\n",
        "exp_df[\"Quintile\"] = exp_df[\"Quintile\"].astype(int)"
      ],
      "metadata": {
        "id": "YAwovlKFVUcZ"
      },

      "outputs": []
    },
    {
      "cell_type": "code",
      "source": [
        "df_compare = income_df.merge(exp_df, on=[\"Country\",\"Year\",\"Quintile\"])\n",
        "df_compare[\"Income_Exp_Ratio\"] = df_compare[\"MeanExpenditure\"] / df_compare[\"MeanIncome\"]\n",
        "\n",
        "print(df_compare.head())\n"
      ],
      "metadata": {
        "colab": {
          "base_uri": "https://localhost:8080/"
        },
        "id": "ZGM8KbZkUkZi",

      "outputs": [
        {
          "output_type": "stream",
          "name": "stdout",
          "text": [
            "   Country  Year  Quintile    MeanIncome  MeanExpenditure  Income_Exp_Ratio\n",

          ]
        }
      ]
    },
    {
      "cell_type": "code",
      "source": [
        "print(datasets[\"b6n\"].head())"
      ],
      "metadata": {
        "colab": {
          "base_uri": "https://localhost:8080/"
        },
        "id": "3Iq3b-iWXUKu",

      "outputs": [
        {
          "output_type": "stream",
          "name": "stdout",
          "text": [
            "   Country  Year    Value\n",
            "0  Germany  2000  1278775\n",
            "1  Germany  2001  1338270\n",
            "2  Germany  2002  1337768\n",
            "3  Germany  2003  1369347\n",
            "4  Germany  2004  1395083\n"
          ]
        }
      ]
    },
    {
      "cell_type": "code",
      "source": [
        "import matplotlib.pyplot as plt\n",
        "import seaborn as sns\n",
        "\n",
        "# Set style\n",
        "sns.set(style=\"whitegrid\")\n",
        "\n",
        "# Plot MeanIncome and MeanExpenditure by quintile over time\n",
        "plt.figure(figsize=(12,6))\n",
        "for q in sorted(df_compare[\"Quintile\"].unique()):\n",
        "    subset = df_compare[df_compare[\"Quintile\"] == q]\n",
        "    plt.plot(subset[\"Year\"], subset[\"MeanIncome\"], marker='o', label=f'Income Q{q}')\n",
        "    plt.plot(subset[\"Year\"], subset[\"MeanExpenditure\"], marker='x', linestyle='--', label=f'Expenditure Q{q}')\n",
        "\n",
        "plt.title(\"Mean Household Income and Expenditure by Quintile (Germany)\")\n",
        "plt.xlabel(\"Year\")\n",
        "plt.ylabel(\"Euros per Household\")\n",
        "plt.legend()\n",
        "plt.show()\n",
        "\n",
        "# Plot Income/Expenditure ratio\n",
        "plt.figure(figsize=(12,5))\n",
        "sns.lineplot(data=df_compare, x=\"Year\", y=\"Income_Exp_Ratio\", hue=\"Quintile\", marker=\"o\")\n",
        "plt.title(\"Household Income to Expenditure Ratio by Quintile (Germany)\")\n",
        "plt.ylabel(\"Income / Expenditure\")\n",
        "plt.xlabel(\"Year\")\n",
        "plt.ylim(0, 1)  # optional to keep ratio readable\n",
        "plt.show()"
      ],
      "metadata": {
        "colab": {
          "base_uri": "https://localhost:8080/",

      "outputs": [
        {
          "output_type": "display_data",
          "data": {
            "text/plain": [
              "<Figure size 1200x600 with 1 Axes>"
            ],

          },
          "metadata": {}
        },
        {
          "output_type": "display_data",
          "data": {
            "text/plain": [
              "<Figure size 1200x500 with 1 Axes>"
            ],

          },
          "metadata": {}
        }
      ]
    },
    {
      "cell_type": "code",
      "source": [
        "\n",
        "# Prepare dataframe for plotting\n",
        "df_plot = df_compare.copy()\n",
        "df_plot[\"Quintile\"] = df_plot[\"Quintile\"].astype(str)  # for better labeling\n",
        "\n",
        "# Panel plot: MeanIncome vs MeanExpenditure per quintile\n",
        "g = sns.FacetGrid(df_plot, col=\"Quintile\", col_wrap=3, height=4, sharey=True)\n",
        "g.map_dataframe(sns.lineplot, x=\"Year\", y=\"MeanIncome\", marker=\"o\", label=\"Income\")\n",
        "g.map_dataframe(sns.lineplot, x=\"Year\", y=\"MeanExpenditure\", marker=\"x\", linestyle=\"--\", label=\"Expenditure\")\n",
        "\n",
        "# Add titles and labels\n",
        "g.set_axis_labels(\"Year\", \"Euros per Household\")\n",
        "g.set_titles(\"Quintile {col_name}\")\n",
        "for ax in g.axes.flatten():\n",
        "    ax.legend()\n",
        "\n",
        "plt.tight_layout()\n",
        "plt.show()\n",
        "\n",
        "# Panel plot: Income/Expenditure ratio per quintile\n",
        "g2 = sns.FacetGrid(df_plot, col=\"Quintile\", col_wrap=3, height=4, sharey=True)\n",
        "g2.map_dataframe(sns.lineplot, x=\"Year\", y=\"Income_Exp_Ratio\", marker=\"o\", color=\"tab:blue\")\n",
        "g2.set_axis_labels(\"Year\", \"Income / Expenditure\")\n",
        "g2.set_titles(\"Quintile {col_name}\")\n",
        "plt.ylim(0,1)  # keep ratio readable\n",
        "plt.tight_layout()\n",
        "plt.show()"
      ],
      "metadata": {
        "colab": {
          "base_uri": "https://localhost:8080/",

      "outputs": [
        {
          "output_type": "display_data",
          "data": {
            "text/plain": [
              "<Figure size 1200x800 with 5 Axes>"
            ],

          },
          "metadata": {}
        },
        {
          "output_type": "display_data",
          "data": {
            "text/plain": [
              "<Figure size 1200x800 with 5 Axes>"
            ],

          },
          "metadata": {}
        }
      ]
    },
    {
      "cell_type": "code",
      "source": [
        "df_compare.to_csv(\"Germany_Household_Income_Expenditure.csv\", index=False)\n",
        "print(\"CSV exported: Germany_Household_Income_Expenditure.csv\")\n",
        "\n",
        "from google.colab import files\n",
        "\n",
        "# Download the combined CSV\n",
        "df_compare.to_csv(\"Germany_Household_Income_Expenditure.csv\", index=False)\n",
        "files.download(\"Germany_Household_Income_Expenditure.csv\")"
      ],
      "metadata": {
        "colab": {
          "base_uri": "https://localhost:8080/",
          "height": 34
        },
        "id": "OKvrmXadYzFW",

      "outputs": [
        {
          "output_type": "stream",
          "name": "stdout",
          "text": [
            "CSV exported: Germany_Household_Income_Expenditure.csv\n"
          ]
        },
        {
          "output_type": "display_data",
          "data": {
            "text/plain": [
              "<IPython.core.display.Javascript object>"
            ],
            "application/javascript": [
              "\n",
              "    async function download(id, filename, size) {\n",
              "      if (!google.colab.kernel.accessAllowed) {\n",
              "        return;\n",
              "      }\n",
              "      const div = document.createElement('div');\n",
              "      const label = document.createElement('label');\n",
              "      label.textContent = `Downloading \"${filename}\": `;\n",
              "      div.appendChild(label);\n",
              "      const progress = document.createElement('progress');\n",
              "      progress.max = size;\n",
              "      div.appendChild(progress);\n",
              "      document.body.appendChild(div);\n",
              "\n",
              "      const buffers = [];\n",
              "      let downloaded = 0;\n",
              "\n",
              "      const channel = await google.colab.kernel.comms.open(id);\n",
              "      // Send a message to notify the kernel that we're ready.\n",
              "      channel.send({})\n",
              "\n",
              "      for await (const message of channel.messages) {\n",
              "        // Send a message to notify the kernel that we're ready.\n",
              "        channel.send({})\n",
              "        if (message.buffers) {\n",
              "          for (const buffer of message.buffers) {\n",
              "            buffers.push(buffer);\n",
              "            downloaded += buffer.byteLength;\n",
              "            progress.value = downloaded;\n",
              "          }\n",
              "        }\n",
              "      }\n",
              "      const blob = new Blob(buffers, {type: 'application/binary'});\n",
              "      const a = document.createElement('a');\n",
              "      a.href = window.URL.createObjectURL(blob);\n",
              "      a.download = filename;\n",
              "      div.appendChild(a);\n",
              "      a.click();\n",
              "      div.remove();\n",
              "    }\n",
              "  "
            ]
          },
          "metadata": {}
        },
        {
          "output_type": "display_data",
          "data": {
            "text/plain": [
              "<IPython.core.display.Javascript object>"
            ],
            "application/javascript": [

            ]
          },
          "metadata": {}
        }
      ]
    },
    {
      "cell_type": "code",
      "source": [
        "print(\"B6N - Total disposable income (millions EUR):\")\n",
        "print(df_income[\"TotalIncome_MIOEUR\"].head())      # B6N\n",
        "\n",
        "print(\"\\nNumber of households (thousands):\")\n",
        "print(df_income[\"NumHouseholds_thousands\"].head())    # hhld_num\n",
        "\n",
        "print(\"\\nExpenditure in PPS:\")\n",
        "print(df_exp[\"ExpPPS\"].head())              # PPS\n",
        "\n",
        "print(\"\\nPPP conversion factor:\")\n",
        "print(df_exp[\"PPP\"].head())                 # PPP"
      ],
      "metadata": {
        "colab": {
          "base_uri": "https://localhost:8080/"
        },
        "id": "GD9_susxavFS",

      },
      "execution_count": 32,
      "outputs": [
        {
          "output_type": "stream",
          "name": "stdout",
          "text": [
            "B6N - Total disposable income (millions EUR):\n",
            "0    1449166\n",
            "1    1471502\n",
            "2    1504587\n",
            "3    1490927\n",
            "4    1525566\n",
            "Name: TotalIncome_MIOEUR, dtype: int64\n",
            "\n",
            "Number of households (thousands):\n",
            "0    39188.5\n",
            "1    39290.5\n",
            "2    39646.2\n",
            "3    39183.4\n",
            "4    38679.3\n",
            "Name: NumHouseholds_thousands, dtype: float64\n",
            "\n",
            "Expenditure in PPS:\n",
            "0    12180\n",
            "1    13225\n",
            "2    14119\n",
            "3    18519\n",
            "4    20622\n",
            "Name: ExpPPS, dtype: int64\n",
            "\n",
            "PPP conversion factor:\n",
            "0    1.05118\n",
            "1    1.06790\n",
            "2    1.07968\n",
            "3    1.05118\n",
            "4    1.06790\n",
            "Name: PPP, dtype: float64\n"
          ]
        }
      ]

    }
  ]
}